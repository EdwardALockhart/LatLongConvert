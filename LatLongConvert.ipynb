{
  "nbformat": 4,
  "nbformat_minor": 0,
  "metadata": {
    "colab": {
      "provenance": []
    },
    "kernelspec": {
      "name": "python3",
      "display_name": "Python 3"
    },
    "language_info": {
      "name": "python"
    }
  },
  "cells": [
    {
      "cell_type": "markdown",
      "source": [
        "1 - In the top right, click \"Connect\". If you see a green tick, you are connected\n",
        "\n",
        "2 - Paste the latitude and longitude coordinates into the field below\n",
        "\n",
        "3 - From \"Runtime\", click \"Run all\"\n",
        "\n",
        "The outputs will be printed. Repeat steps 2 and 3 as necessary"
      ],
      "metadata": {
        "id": "PZrMajI2a-H9"
      }
    },
    {
      "cell_type": "code",
      "source": [
        "#@title\n",
        "%%capture\n",
        "!pip install 'pyproj==3.4.1'"
      ],
      "metadata": {
        "cellView": "form",
        "id": "yYNdl0mxUviA"
      },
      "execution_count": null,
      "outputs": []
    },
    {
      "cell_type": "code",
      "execution_count": null,
      "metadata": {
        "cellView": "form",
        "id": "nAZ9-dNSTUWh"
      },
      "outputs": [],
      "source": [
        "#@title\n",
        "def xy_to_osgb(easting, northing, precision = 1):\n",
        "    MAJOR_LETTERS = {0: {0: 'S', 1: 'N', 2: 'H'},\n",
        "                     1: {0: 'T', 1: 'O'}}\n",
        "    MINOR_LETTERS = {0: {0: 'V', 1: 'Q', 2: 'L', 3: 'F', 4: 'A'},\n",
        "                     1: {0: 'W', 1: 'R', 2: 'M', 3: 'G', 4: 'B'},\n",
        "                     2: {0: 'X', 1: 'S', 2: 'N', 3: 'H', 4: 'C'},\n",
        "                     3: {0: 'Y', 1: 'T', 2: 'O', 3: 'J', 4: 'D'},\n",
        "                     4: {0: 'Z', 1: 'U', 2: 'P', 3: 'K', 4: 'E'}}\n",
        "\n",
        "    if precision not in [100000, 10000, 1000, 100, 10, 1]:\n",
        "        raise Exception('Precision of ' + str(precision) + ' is not supported')\n",
        "\n",
        "    try:\n",
        "        x_idx = easting // 500000\n",
        "        y_idx = northing // 500000\n",
        "        major_letter = MAJOR_LETTERS[x_idx][y_idx]\n",
        "\n",
        "        macro_easting = easting % 500000\n",
        "        macro_northing = northing % 500000\n",
        "        macro_x_idx = macro_easting // 100000\n",
        "        macro_y_idx = macro_northing // 100000\n",
        "        minor_letter = MINOR_LETTERS[macro_x_idx][macro_y_idx]\n",
        "\n",
        "    except (ValueError, IndexError, KeyError, AssertionError):\n",
        "        raise Exception('Out of range')\n",
        "\n",
        "    micro_easting = macro_easting % 100000\n",
        "    micro_northing = macro_northing % 100000\n",
        "\n",
        "    ref_x = micro_easting // precision\n",
        "    ref_y = micro_northing // precision\n",
        "\n",
        "    gridref_width = 0\n",
        "    if precision == 10000: gridref_width = 1\n",
        "    elif precision == 1000: gridref_width = 2\n",
        "    elif precision == 100: gridref_width = 3\n",
        "    elif precision == 10: gridref_width = 4\n",
        "    elif precision == 1: gridref_width = 5\n",
        "\n",
        "    format_string = (r'%s%s %0' + str(gridref_width) + r'd %0' +\n",
        "                     str(gridref_width) + r'd') if precision else r'%s%s %0'\n",
        "    return format_string % (major_letter, minor_letter, ref_x, ref_y)\n",
        "\n",
        "\n",
        "import pyproj\n",
        "pyproj.network.set_network_enabled(True)\n",
        "tg = pyproj.transformer.TransformerGroup(27700, 4326)\n",
        "tg.download_grids(verbose = True)\n",
        "accuracy = min([i.accuracy for i in tg.transformers if i.accuracy > 0])\n",
        "\n",
        "latlong = \"Latitude, longitude\" #@param {type: \"string\"}\n",
        "latitude, longitude = latlong.split(\",\")\n",
        "latitude, longitude = float(latitude), float(longitude)\n",
        "\n",
        "transformer = pyproj.Transformer.from_crs(\"epsg:4326\", \"epsg:27700\", always_xy = True)\n",
        "easting, northing = transformer.transform(longitude, latitude)\n",
        "\n",
        "print(\"1mGridRef:\", xy_to_osgb(int(easting), int(northing), precision = 1))\n",
        "print(\"10mGridRef:\", xy_to_osgb(int(easting), int(northing), precision = 10))\n",
        "print(\"100mGridRef:\", xy_to_osgb(int(easting), int(northing), precision = 100))\n",
        "print(\"GoogleMapsURL:\", \"https://www.google.com/maps/place/\" + \"{:.5f}\".format(latitude) + \",\" + \"{:.5f}\".format(longitude))"
      ]
    }
  ]
}
